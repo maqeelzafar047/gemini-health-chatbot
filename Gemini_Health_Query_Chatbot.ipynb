{
  "nbformat": 4,
  "nbformat_minor": 0,
  "metadata": {
    "colab": {
      "provenance": []
    },
    "kernelspec": {
      "name": "python3",
      "display_name": "Python 3"
    },
    "language_info": {
      "name": "python"
    }
  },
  "cells": [
    {
      "cell_type": "markdown",
      "source": [
        "# **General Health Query Chatbot** using **Prompt Engineering**"
      ],
      "metadata": {
        "id": "5MtTPvS98F8J"
      }
    },
    {
      "cell_type": "markdown",
      "source": [
        "### Install Required Libraries"
      ],
      "metadata": {
        "id": "Ko577ZxL8gGt"
      }
    },
    {
      "cell_type": "code",
      "source": [
        "# 'requests' is used to make HTTP POST requests to the Gemini API.\n",
        "!pip install requests"
      ],
      "metadata": {
        "colab": {
          "base_uri": "https://localhost:8080/"
        },
        "id": "P6PUiRFP7bHK",
        "outputId": "9e38811d-ac38-4601-a1fa-007f6112d7b8"
      },
      "execution_count": 55,
      "outputs": [
        {
          "output_type": "stream",
          "name": "stdout",
          "text": [
            "Requirement already satisfied: requests in /usr/local/lib/python3.11/dist-packages (2.32.3)\n",
            "Requirement already satisfied: charset-normalizer<4,>=2 in /usr/local/lib/python3.11/dist-packages (from requests) (3.4.2)\n",
            "Requirement already satisfied: idna<4,>=2.5 in /usr/local/lib/python3.11/dist-packages (from requests) (3.10)\n",
            "Requirement already satisfied: urllib3<3,>=1.21.1 in /usr/local/lib/python3.11/dist-packages (from requests) (2.4.0)\n",
            "Requirement already satisfied: certifi>=2017.4.17 in /usr/local/lib/python3.11/dist-packages (from requests) (2025.6.15)\n"
          ]
        }
      ]
    },
    {
      "cell_type": "markdown",
      "source": [
        "### Import Libraries & Set Up the API Key"
      ],
      "metadata": {
        "id": "EugWPmqc8say"
      }
    },
    {
      "cell_type": "code",
      "source": [
        "# Import the requests library to handle HTTP requests\n",
        "import requests\n",
        "\n",
        "# Replace this with your own Gemini API key when using the notebook privately.\n",
        "API_KEY = \"ENTER_YOUR_API_KEY_HERE\"\n",
        "\n",
        "# Gemini API URL (we are using Gemini 2.0 Flash model here)\n",
        "# Gemini 2.0 Flash is a fast, lightweight model suitable for quick tasks like chatbot Q&A\n",
        "URL = f\"https://generativelanguage.googleapis.com/v1beta/models/gemini-2.0-flash:generateContent?key={API_KEY}\""
      ],
      "metadata": {
        "id": "dqXaqtEw8wEF"
      },
      "execution_count": 59,
      "outputs": []
    },
    {
      "cell_type": "markdown",
      "source": [
        "### Define the Chat Function"
      ],
      "metadata": {
        "id": "WT3nu4DL8wj0"
      }
    },
    {
      "cell_type": "code",
      "source": [
        "# 💬 This function sends the user's health-related query to Gemini\n",
        "# and retrieves a clear, safe, and helpful response.\n",
        "def ask_gemini(question):\n",
        "    # This structure is required by the Gemini API. It wraps the user's text in JSON.\n",
        "    payload = {\n",
        "        \"contents\": [\n",
        "            {\n",
        "                \"parts\": [{\"text\": question}]\n",
        "            }\n",
        "        ]\n",
        "    }\n",
        "    # This tells the API we are sending JSON data\n",
        "    headers = {\n",
        "        \"Content-Type\": \"application/json\"\n",
        "    }\n",
        "\n",
        "    # Send POST request to Gemini API\n",
        "    response = requests.post(URL, headers=headers, json=payload)\n",
        "\n",
        "    # Parse response and handle errors\n",
        "    # If everything works fine, parse and return the answer\n",
        "    if response.status_code == 200:\n",
        "        output = response.json()\n",
        "        try:\n",
        "            return output['candidates'][0]['content']['parts'][0]['text']\n",
        "        except (KeyError, IndexError):\n",
        "            return \"⚠️ Received an unexpected response structure.\"\n",
        "    else:\n",
        "        return f\"❌ Error {response.status_code}: {response.text}\""
      ],
      "metadata": {
        "id": "Qdh80P5v84GA"
      },
      "execution_count": 60,
      "outputs": []
    },
    {
      "cell_type": "markdown",
      "source": [
        "### Run the Chatbot Loop"
      ],
      "metadata": {
        "id": "40XbvGhD84Zd"
      }
    },
    {
      "cell_type": "code",
      "source": [
        "# 👨‍⚕️ Simple chatbot loop\n",
        "# This runs in a loop until the user types 'exit'\n",
        "\n",
        "print(\"Asslam-o-Alaikum! Dear User\")\n",
        "print(\"👨‍⚕️ Welcome to the Health Assistant!\")\n",
        "print(\"Type 'exit' to quit.\\n\")\n",
        "\n",
        "while True:\n",
        "    user_input = input(\"🟠 You: \")\n",
        "    if user_input.lower() == 'exit':\n",
        "        print(\"Allah Hafiz! Stay safe and healthy.🙂\")\n",
        "        break\n",
        "    answer = ask_gemini(user_input)\n",
        "    print(\"🟢 Gemini:\", answer, \"\\n\")"
      ],
      "metadata": {
        "colab": {
          "base_uri": "https://localhost:8080/"
        },
        "id": "rK3GgLPr9JVn",
        "outputId": "4c95fa27-e330-4fe0-9f09-fc45cf73ea1c"
      },
      "execution_count": 62,
      "outputs": [
        {
          "output_type": "stream",
          "name": "stdout",
          "text": [
            "Asslam-o-Alaikum! Dear User\n",
            "👨‍⚕️ Welcome to the Health Assistant!\n",
            "Type 'exit' to quit.\n",
            "\n",
            "🟠 You: Salam!\n",
            "🟢 Gemini: Wa alaikum assalam! How can I help you today?\n",
            " \n",
            "\n",
            "🟠 You: What causes a sore throat?\n",
            "🟢 Gemini: A sore throat, also known as pharyngitis, can be caused by a variety of factors. Here are the most common culprits:\n",
            "\n",
            "**Infections (Most Common):**\n",
            "\n",
            "*   **Viral Infections:** The vast majority of sore throats are caused by viruses.\n",
            "    *   **Common Cold:**  Often accompanied by other symptoms like runny nose, cough, congestion, and sneezing.\n",
            "    *   **Flu (Influenza):**  More severe than a cold, with symptoms like fever, body aches, fatigue, and headache.\n",
            "    *   **Mononucleosis (Mono or \"Kissing Disease\"):** Can cause a very severe sore throat, along with fatigue, fever, swollen lymph nodes, and sometimes an enlarged spleen.\n",
            "    *   **COVID-19:** A viral infection with a wide range of symptoms, including sore throat.\n",
            "    *   **Other Viruses:**  Measles, chickenpox, croup, and herpes simplex virus can also cause sore throats.\n",
            "\n",
            "*   **Bacterial Infections:** Less common than viral infections, but often more severe.\n",
            "    *   **Strep Throat:** Caused by *Streptococcus pyogenes* bacteria.  Symptoms include a sudden, severe sore throat, pain when swallowing, fever, red and swollen tonsils (often with white patches), and swollen lymph nodes in the neck. Strep throat requires antibiotic treatment to prevent complications like rheumatic fever.\n",
            "    *   **Tonsillitis:** An infection of the tonsils, which can be caused by bacteria or viruses.\n",
            "    *   **Whooping Cough (Pertussis):**  A highly contagious respiratory infection characterized by severe coughing fits, but can also start with cold-like symptoms including a sore throat.\n",
            "\n",
            "**Other Causes:**\n",
            "\n",
            "*   **Allergies:** Seasonal allergies (pollen) or allergies to dust mites, pet dander, etc., can cause postnasal drip, which irritates the throat.\n",
            "*   **Irritants:**\n",
            "    *   **Dry Air:** Dry air, especially during winter, can dry out and irritate the throat.\n",
            "    *   **Pollution:** Air pollution, smoke (cigarette smoke or other types of smoke), and chemical fumes can irritate the throat lining.\n",
            "    *   **Alcohol and Certain Foods:** Can be irritating to the throat in some people.\n",
            "*   **Muscle Strain:**  Yelling, talking loudly for an extended period, or straining your voice can cause a sore throat.\n",
            "*   **Gastroesophageal Reflux Disease (GERD):** Stomach acid backing up into the esophagus can irritate the throat (laryngopharyngeal reflux).\n",
            "*   **Tumors:**  Rarely, a sore throat can be a symptom of a tumor in the throat, tongue, or larynx. This is more likely if the sore throat is persistent and doesn't go away with treatment.\n",
            "*   **HIV Infection:** A sore throat can be an early symptom of HIV infection.\n",
            "*   **Certain Medications:** Some medications can cause a sore throat as a side effect.\n",
            "*   **Postnasal Drip:** Mucus draining down the back of the throat can be irritating.\n",
            "\n",
            "**When to See a Doctor:**\n",
            "\n",
            "It's important to see a doctor if you have a sore throat along with any of the following symptoms:\n",
            "\n",
            "*   Difficulty breathing or swallowing\n",
            "*   Severe pain\n",
            "*   High fever (over 101°F or 38.3°C)\n",
            "*   Swollen lymph nodes in the neck\n",
            "*   Pus or white patches on the tonsils or back of the throat\n",
            "*   Hoarseness lasting longer than two weeks\n",
            "*   Rash\n",
            "*   Joint pain\n",
            "*   Earache\n",
            "*   Bloody mucus\n",
            "*   A sore throat that doesn't improve after a week\n",
            "\n",
            "**Disclaimer:** This information is intended for general knowledge and informational purposes only, and does not constitute medical advice. It is essential to consult with a qualified healthcare professional for any health concerns or before making any decisions related to your health or treatment.\n",
            " \n",
            "\n",
            "🟠 You: Why do we get headaches?\n",
            "🟢 Gemini: Headaches are incredibly common, but understanding exactly *why* they happen is a complex puzzle that researchers are still working to solve. Here's a breakdown of the main ideas:\n",
            "\n",
            "**The Key Point: Headaches Don't Come From the Brain Itself**\n",
            "\n",
            "*   The brain tissue itself doesn't have pain receptors. So, the feeling of a headache comes from the structures *surrounding* the brain, including:\n",
            "    *   Blood vessels in the brain, scalp, and neck\n",
            "    *   Muscles of the head, neck, and shoulders\n",
            "    *   Nerves in the head and neck\n",
            "    *   The meninges (membranes covering the brain and spinal cord)\n",
            "    *   Sinuses\n",
            "    *   Teeth and jaw\n",
            "\n",
            "**What Triggers the Pain?**\n",
            "\n",
            "Headaches are often triggered by a combination of factors that activate or irritate these pain-sensitive structures. These factors can be broadly categorized:\n",
            "\n",
            "*   **Changes in Blood Vessels:**\n",
            "    *   **Vasodilation (widening of blood vessels):** This can stretch the vessel walls, stimulating pain receptors. This is thought to play a role in some migraine headaches.\n",
            "    *   **Vasoconstriction (narrowing of blood vessels):** Followed by rebound vasodilation.\n",
            "    *   **Inflammation of blood vessels:** As seen in conditions like temporal arteritis.\n",
            "\n",
            "*   **Muscle Tension:**\n",
            "    *   **Tightening of muscles in the scalp, neck, and shoulders:**  Prolonged tension (from stress, bad posture, or clenching your jaw) can lead to tension-type headaches.\n",
            "\n",
            "*   **Nerve Irritation or Dysfunction:**\n",
            "    *   **Activation of the trigeminal nerve:** This is a major nerve in the face and head, and its activation is strongly implicated in migraines and cluster headaches.\n",
            "    *   **Nerve compression:** Problems in the neck can sometimes compress nerves leading to headaches.\n",
            "\n",
            "*   **Chemical Imbalances:**\n",
            "    *   **Changes in neurotransmitters:** Neurotransmitters like serotonin, dopamine, and norepinephrine play a role in pain processing. Imbalances can trigger headaches, especially migraines.\n",
            "    *   **Hormonal fluctuations:**  Changes in estrogen levels, particularly in women, can be linked to headaches.\n",
            "    *   **Certain foods and drinks:**  Some substances (like caffeine, alcohol, aged cheeses, processed meats) are known headache triggers for susceptible individuals.\n",
            "\n",
            "*   **Inflammation:**\n",
            "    *   Inflammation in the sinuses (sinus headaches)\n",
            "    *   Inflammation of the meninges (meningitis)\n",
            "    *   Inflammation of arteries (arteritis)\n",
            "\n",
            "**Common Types of Headaches and Their Likely Causes:**\n",
            "\n",
            "*   **Tension Headaches:**  The most common type. Often caused by muscle tension in the head, neck, and shoulders, triggered by stress, poor posture, or anxiety.\n",
            "*   **Migraines:**  More complex and intense than tension headaches.  Likely involve a combination of blood vessel changes, nerve activation (particularly the trigeminal nerve), and chemical imbalances in the brain.  Often have specific triggers like certain foods, stress, or hormonal changes.\n",
            "*   **Cluster Headaches:**  Severe, intensely painful headaches that occur in clusters (periods of frequent attacks followed by periods of remission).  The exact cause isn't fully understood, but they are thought to involve the hypothalamus (a region in the brain that regulates body functions) and the trigeminal nerve.\n",
            "*   **Sinus Headaches:**  Caused by inflammation and pressure in the sinuses, often associated with a sinus infection.\n",
            "*   **Rebound Headaches (Medication-Overuse Headaches):**  Caused by the overuse of pain medication to treat headaches.  The body becomes dependent on the medication, and headaches occur when the medication is withdrawn.\n",
            "*   **Secondary Headaches:**  Headaches that are symptoms of an underlying medical condition, such as:\n",
            "    *   High blood pressure\n",
            "    *   Infections (like meningitis or encephalitis)\n",
            "    *   Brain tumors\n",
            "    *   Head injuries\n",
            "    *   Dehydration\n",
            "    *   Glaucoma\n",
            "\n",
            "**Important Considerations:**\n",
            "\n",
            "*   **Individual Variation:**  What triggers a headache in one person may not trigger it in another.\n",
            "*   **Genetic Predisposition:**  Headaches, especially migraines, tend to run in families.\n",
            "*   **Triggers:** Identifying and avoiding your personal headache triggers can be very helpful in managing headaches. Common triggers include:\n",
            "    *   Stress\n",
            "    *   Lack of sleep\n",
            "    *   Dehydration\n",
            "    *   Caffeine withdrawal\n",
            "    *   Alcohol\n",
            "    *   Certain foods (aged cheeses, processed meats, chocolate)\n",
            "    *   Changes in weather\n",
            "    *   Strong smells\n",
            "    *   Bright lights\n",
            "\n",
            "**When to See a Doctor:**\n",
            "\n",
            "While most headaches are not serious, it's important to see a doctor if you experience any of the following:\n",
            "\n",
            "*   Sudden, severe headache (especially if it's the worst headache you've ever had)\n",
            "*   Headache with fever, stiff neck, rash, confusion, seizures, double vision, weakness, numbness, or difficulty speaking\n",
            "*   Headache after a head injury\n",
            "*   Headache that gets progressively worse or doesn't improve with over-the-counter pain relievers\n",
            "*   Changes in personality or mental function\n",
            "*   Headaches that interfere with your daily life\n",
            "\n",
            "In summary, headaches are complex and result from the activation of pain receptors in the structures surrounding the brain.  Many factors can contribute, including blood vessel changes, muscle tension, nerve irritation, chemical imbalances, and inflammation.  Understanding the different types of headaches and their potential causes can help you manage them effectively. If you have any concerns about your headaches, it is always best to consult with a healthcare professional.\n",
            " \n",
            "\n",
            "🟠 You: exit\n",
            "Allah Hafiz! Stay safe and healthy.🙂\n"
          ]
        }
      ]
    },
    {
      "cell_type": "markdown",
      "source": [
        "## **Summary:-**\n",
        "This notebook demonstrates how to build a simple health-related chatbot using the Gemini 2.0 Flash API from Google. The project uses Prompt Engineering to control how the AI responds, ensuring answers are helpful and safe.\n",
        "\n",
        "**Key Features:**\n",
        "\n",
        "- Uses Google Gemini 2.0 Flash through its REST API.\n",
        "\n",
        "- Designed to handle general health-related queries only (no diagnoses or treatments).\n",
        "\n",
        "- Built with Python and the requests library for API communication.\n",
        "\n",
        "- Includes basic safety instructions in the prompt to restrict sensitive topics.\n",
        "\n",
        "- Easily extendable to GUI or web app with frameworks like Streamlit or Flask.\n",
        "\n",
        "**What is an API and Why Do We Use It?**\n",
        "\n",
        "- API stands for **Application Programming Interface**. It is a set of rules and tools that allows two software applications to communicate.\n",
        "\n",
        "- Think of it like a waiter in a restaurant: you **(the user)** place an order **(request)**, the waiter **(API)** takes the order to the kitchen **(server)**, and then delivers the food **(response)** back to you.\n",
        "\n",
        "- The Gemini AI model is **hosted by Google** in the cloud.\n",
        "\n",
        "- Our Python program sends a request to the Gemini model using HTTP **(via requests)**.\n",
        "\n",
        "- The API processes the input **(your question)** and returns the AI-generated response.\n",
        "\n",
        "**Benefits of Using the Gemini API:**\n",
        "- Access to advanced AI without needing local machine learning models.\n",
        "\n",
        "- Fast, real-time responses ideal for chatbots and interactive apps.\n",
        "\n",
        "- Integrates easily with any Python project.\n",
        "\n",
        "- Enables custom prompt engineering for tailored AI behavior.\n",
        "\n",
        "**Lays the foundation for building smart apps like**:\n",
        "\n",
        "- Chatbots\n",
        "\n",
        "- Health assistants\n",
        "\n",
        "- Study helpers\n",
        "\n",
        "- Productivity tools"
      ],
      "metadata": {
        "id": "yKzLzXuk9QTJ"
      }
    }
  ]
}